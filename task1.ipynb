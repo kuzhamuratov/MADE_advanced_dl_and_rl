{
 "cells": [
  {
   "cell_type": "markdown",
   "id": "489f3f95",
   "metadata": {},
   "source": [
    "## RL and Advanced DL: Домашнее задание 1"
   ]
  },
  {
   "cell_type": "code",
   "execution_count": 1,
   "id": "d757d5eb",
   "metadata": {},
   "outputs": [],
   "source": [
    "import random\n",
    "import numpy as np\n",
    "import matplotlib.pyplot as plt\n",
    "from tqdm import trange\n",
    "import gym\n",
    "env = gym.make('Blackjack-v1')"
   ]
  },
  {
   "cell_type": "markdown",
   "id": "aa856640",
   "metadata": {},
   "source": [
    "### Part1"
   ]
  },
  {
   "cell_type": "markdown",
   "id": "1cf6bd26",
   "metadata": {},
   "source": [
    "1. Рассмотрим очень простую стратегию: говорить stand, если у нас на руках комбинация в 19, 20 или 21 очко, во всех остальных случаях говорить hit. Используйте методы Монте-Карло, чтобы оценить выигрыш от этой стратегии."
   ]
  },
  {
   "cell_type": "code",
   "execution_count": 2,
   "id": "3c793e63",
   "metadata": {},
   "outputs": [
    {
     "name": "stderr",
     "output_type": "stream",
     "text": [
      "100%|████████████████████████████████| 100000/100000 [00:09<00:00, 10695.57it/s]\n"
     ]
    }
   ],
   "source": [
    "EXELENT_NUMBERS = [19, 20, 21]\n",
    "average_reward = 0\n",
    "N = 100000\n",
    "for i in trange(N):\n",
    "    (player_score, dealer_card, usable_ace), _ = env.reset()\n",
    "    done = False\n",
    "    while not done:\n",
    "        if player_score in EXELENT_NUMBERS:\n",
    "            (player_score, dealer_card, usable_ace), reward, done, _, _ = env.step(0)\n",
    "        else:\n",
    "            (player_score, dealer_card, usable_ace), reward, done, _, _ = env.step(1)\n",
    "    average_reward += reward\n",
    "average_reward /= N"
   ]
  },
  {
   "cell_type": "code",
   "execution_count": 3,
   "id": "3e5d387a",
   "metadata": {},
   "outputs": [
    {
     "name": "stdout",
     "output_type": "stream",
     "text": [
      "-0.19665\n"
     ]
    }
   ],
   "source": [
    "print(average_reward)"
   ]
  },
  {
   "cell_type": "markdown",
   "id": "83f81d97",
   "metadata": {},
   "source": [
    "2. Реализуйте метод обучения с подкреплением без модели (можно Q-обучение, но рекомендую попробовать и другие, например Monte Carlo control) для обучения стратегии в блекджеке, используя окружение BlackjackEnv из OpenAI Gym."
   ]
  },
  {
   "cell_type": "code",
   "execution_count": 4,
   "id": "4ee4e01f",
   "metadata": {},
   "outputs": [],
   "source": [
    "EPSILON_INIT = 0.1\n",
    "EPSILON_END = 0.001\n",
    "NUM_STATES = 40\n",
    "NUM_ACTIONS = 2\n",
    "Q_values = np.array([[0. for i in range(NUM_ACTIONS)] for j in range(NUM_STATES)])\n",
    "Returns = [[[] for i in range(NUM_ACTIONS)] for j in range(NUM_STATES)]"
   ]
  },
  {
   "cell_type": "code",
   "execution_count": 5,
   "id": "b9f17b9e",
   "metadata": {},
   "outputs": [
    {
     "name": "stderr",
     "output_type": "stream",
     "text": [
      "100%|██████████████████████████████████| 100000/100000 [13:58<00:00, 119.30it/s]\n"
     ]
    }
   ],
   "source": [
    "testing_avg_reward = []\n",
    "\n",
    "# Monte Carlo control\n",
    "for i in trange(100000):\n",
    "    \n",
    "    EPSILON = EPSILON_INIT - i * (EPSILON_INIT - EPSILON_END) / 100000\n",
    "    # generate episode\n",
    "    episode = []\n",
    "    (player_score, dealer_card, usable_ace), _ = env.reset()\n",
    "    done = False\n",
    "    while not done:\n",
    "        if random.uniform(0, 1) > EPSILON:\n",
    "            action = np.argmax(Q_values[player_score])\n",
    "        else:\n",
    "            action = random.randint(0, 1)\n",
    "        (player_score_next, dealer_card, usable_ace), reward, done, _, _ = env.step(action)\n",
    "        episode.append((player_score, action, reward, done))\n",
    "        player_score = player_score_next\n",
    "    \n",
    "    # calculate new q_matrix\n",
    "    G = 0\n",
    "    for player_score, action, reward, done in episode[::-1]:\n",
    "        G = reward + G\n",
    "        Returns[player_score][action] += [G]\n",
    "        \n",
    "        Q_values[player_score, action] = np.mean(Returns[player_score][action])\n",
    "    \n",
    "    \n",
    "    # testing model  every 1000 iterations\n",
    "    if i % 1000 == 0:\n",
    "        average_reward = 0\n",
    "        for i in range(N):\n",
    "            (player_score, dealer_card, usable_ace), _ = env.reset()\n",
    "            done = False\n",
    "            while not done:\n",
    "                if random.uniform(0, 1) > EPSILON:\n",
    "                    action = np.argmax(Q_values[player_score])\n",
    "                else:\n",
    "                    action = random.randint(0, 1)\n",
    "                (player_score_next, dealer_card, usable_ace), reward, done, _, _ = env.step(action)\n",
    "                player_score = player_score_next\n",
    "            average_reward += reward\n",
    "        testing_avg_reward.append(average_reward / N)\n",
    "    "
   ]
  },
  {
   "cell_type": "markdown",
   "id": "347c3937",
   "metadata": {},
   "source": [
    "3. Сколько выигрывает казино у вашей стратегии? Нарисуйте графики среднего дохода вашего метода (усреднённого по крайней мере по 100000 раздач, а лучше больше) по ходу обучения. Попробуйте подобрать оптимальные гиперпараметры.\n",
    "\n",
    "**Основной гиперпараметр EPSILON**. Гамма не влияет, а количество итераций берем большое (на каждое состояние от 4 до 22 много состояний при N > 100000)."
   ]
  },
  {
   "cell_type": "code",
   "execution_count": 6,
   "id": "c9e66db5",
   "metadata": {},
   "outputs": [
    {
     "data": {
      "text/plain": [
       "[<matplotlib.lines.Line2D at 0x7fbd665220a0>]"
      ]
     },
     "execution_count": 6,
     "metadata": {},
     "output_type": "execute_result"
    },
    {
     "data": {
      "image/png": "[encoded data removed]",
      "text/plain": [
       "<Figure size 432x288 with 1 Axes>"
      ]
     },
     "metadata": {
      "needs_background": "light"
     },
     "output_type": "display_data"
    }
   ],
   "source": [
    "# Средняя награда по итерациям (*1000)\n",
    "plt.plot(testing_avg_reward)"
   ]
  },
  {
   "cell_type": "code",
   "execution_count": 7,
   "id": "4f89e5e5",
   "metadata": {},
   "outputs": [
    {
     "data": {
      "text/plain": [
       "-0.07423"
      ]
     },
     "execution_count": 7,
     "metadata": {},
     "output_type": "execute_result"
    }
   ],
   "source": [
    "testing_avg_reward[-1]"
   ]
  },
  {
   "cell_type": "code",
   "execution_count": 8,
   "id": "d49c0263",
   "metadata": {},
   "outputs": [
    {
     "name": "stdout",
     "output_type": "stream",
     "text": [
      "-0.06963\n"
     ]
    }
   ],
   "source": [
    "average_reward = 0\n",
    "for i in range(N):\n",
    "    (player_score, dealer_card, usable_ace), _ = env.reset()\n",
    "    done = False\n",
    "    while not done:\n",
    "        action = np.argmax(Q_values[player_score])\n",
    "        (player_score_next, dealer_card, usable_ace), reward, done, _, _ = env.step(action)\n",
    "        player_score = player_score_next\n",
    "    average_reward += reward\n",
    "print(average_reward / N)"
   ]
  },
  {
   "cell_type": "markdown",
   "id": "00efb976",
   "metadata": {},
   "source": [
    "### Part2"
   ]
  },
  {
   "cell_type": "code",
   "execution_count": 13,
   "id": "6a0c47de",
   "metadata": {},
   "outputs": [],
   "source": [
    "class BlackJackWithDouble:\n",
    "    def __init__(self, env):\n",
    "        self.env = env\n",
    "    def reset(self):\n",
    "        return self.env.reset()\n",
    "    def step(self, action):\n",
    "        if action == 2:\n",
    "            (state, d_state, ace), r, done, info1, info2 =  self.env.step(1)\n",
    "            while not done:\n",
    "                (state, d_state, ace), r, done, info1, info2 =  self.env.step(0)\n",
    "            return (state, d_state, ace), 2 * r, done, info1, info2\n",
    "        return self.env.step(action)"
   ]
  },
  {
   "cell_type": "code",
   "execution_count": 14,
   "id": "5767ab8c",
   "metadata": {},
   "outputs": [],
   "source": [
    "new_env = BlackJackWithDouble(env)"
   ]
  },
  {
   "cell_type": "code",
   "execution_count": 15,
   "id": "6709a47d",
   "metadata": {},
   "outputs": [],
   "source": [
    "EPSILON_INIT = 0.1\n",
    "EPSILON_END = 0.001\n",
    "NUM_STATES = 40\n",
    "NUM_ACTIONS = 3\n",
    "Q_values = np.array([[0. for i in range(NUM_ACTIONS)] for j in range(NUM_STATES)])\n",
    "Returns = [[[] for i in range(NUM_ACTIONS)] for j in range(NUM_STATES)]"
   ]
  },
  {
   "cell_type": "code",
   "execution_count": 17,
   "id": "dd4ce279",
   "metadata": {},
   "outputs": [
    {
     "name": "stderr",
     "output_type": "stream",
     "text": [
      "100%|██████████████████████████████████| 100000/100000 [13:21<00:00, 124.74it/s]\n"
     ]
    }
   ],
   "source": [
    "testing_avg_reward = []\n",
    "\n",
    "# Monte Carlo control\n",
    "for i in trange(100000):\n",
    "    EPSILON = EPSILON_INIT - i * (EPSILON_INIT - EPSILON_END) / 100000\n",
    "    # generate episode\n",
    "    episode = []\n",
    "    (player_score, dealer_card, usable_ace), _ = new_env.reset()\n",
    "    done = False\n",
    "    while not done:\n",
    "        if random.uniform(0, 1) > EPSILON:\n",
    "            action = np.argmax(Q_values[player_score])\n",
    "        else:\n",
    "            action = random.randint(0, 2)\n",
    "        (player_score_next, dealer_card, usable_ace), reward, done, _, _ = new_env.step(action)\n",
    "        episode.append((player_score, action, reward, done))\n",
    "        player_score = player_score_next\n",
    "    \n",
    "    # calculate new q_matrix\n",
    "    G = 0\n",
    "    for player_score, action, reward, done in episode[::-1]:\n",
    "        G = reward + G\n",
    "        Returns[player_score][action] += [G]\n",
    "        \n",
    "        Q_values[player_score, action] = np.mean(Returns[player_score][action])\n",
    "\n",
    "\n",
    "    # testing model  every 5 iterations\n",
    "    if i % 1000 == 0:\n",
    "        average_reward = 0\n",
    "        for i in range(N):\n",
    "            (player_score, dealer_card, usable_ace), _ = new_env.reset()\n",
    "            done = False\n",
    "            while not done:\n",
    "                if random.uniform(0, 1) > EPSILON:\n",
    "                    action = np.argmax(Q_values[player_score])\n",
    "                else:\n",
    "                    action = random.randint(0, 1)\n",
    "                (player_score_next, dealer_card, usable_ace), reward, done, _, _ = new_env.step(action)\n",
    "                player_score = player_score_next\n",
    "            average_reward += reward\n",
    "        testing_avg_reward.append(average_reward / N)"
   ]
  },
  {
   "cell_type": "code",
   "execution_count": 18,
   "id": "fa55b32e",
   "metadata": {},
   "outputs": [
    {
     "data": {
      "text/plain": [
       "[<matplotlib.lines.Line2D at 0x7fbd66620550>]"
      ]
     },
     "execution_count": 18,
     "metadata": {},
     "output_type": "execute_result"
    },
    {
     "data": {
      "image/png": "[encoded data removed]",
      "text/plain": [
       "<Figure size 432x288 with 1 Axes>"
      ]
     },
     "metadata": {
      "needs_background": "light"
     },
     "output_type": "display_data"
    }
   ],
   "source": [
    "# Средняя награда по итерациям (*1000)\n",
    "plt.plot(testing_avg_reward)"
   ]
  },
  {
   "cell_type": "code",
   "execution_count": 19,
   "id": "6f3c2c86",
   "metadata": {},
   "outputs": [
    {
     "name": "stderr",
     "output_type": "stream",
     "text": [
      "100%|█████████████████████████████████| 100000/100000 [00:10<00:00, 9355.04it/s]\n"
     ]
    }
   ],
   "source": [
    "average_reward = 0\n",
    "for i in trange(N):\n",
    "    (player_score, dealer_card, usable_ace), _ = new_env.reset()\n",
    "    done = False\n",
    "    while not done:\n",
    "        if random.uniform(0, 1) > EPSILON:\n",
    "            action = np.argmax(Q_values[player_score])\n",
    "        else:\n",
    "            action = random.randint(0, 1)\n",
    "        (player_score_next, dealer_card, usable_ace), reward, done, _, _ = new_env.step(action)\n",
    "        player_score = player_score_next\n",
    "    average_reward += reward"
   ]
  },
  {
   "cell_type": "code",
   "execution_count": 20,
   "id": "e5507f35",
   "metadata": {},
   "outputs": [
    {
     "data": {
      "text/plain": [
       "-0.0665"
      ]
     },
     "execution_count": 20,
     "metadata": {},
     "output_type": "execute_result"
    }
   ],
   "source": [
    "average_reward / N"
   ]
  },
  {
   "cell_type": "markdown",
   "id": "12525f7f",
   "metadata": {},
   "source": [
    "### Part3"
   ]
  },
  {
   "cell_type": "code",
   "execution_count": null,
   "id": "02cf2229",
   "metadata": {},
   "outputs": [],
   "source": []
  },
  {
   "cell_type": "code",
   "execution_count": null,
   "id": "13396f87",
   "metadata": {},
   "outputs": [],
   "source": []
  },
  {
   "cell_type": "markdown",
   "id": "af4b8edd",
   "metadata": {},
   "source": [
    "### Part4"
   ]
  },
  {
   "cell_type": "code",
   "execution_count": null,
   "id": "b83972c5",
   "metadata": {},
   "outputs": [],
   "source": []
  },
  {
   "cell_type": "code",
   "execution_count": null,
   "id": "9695d8f7",
   "metadata": {},
   "outputs": [],
   "source": []
  }
 ],
 "metadata": {
  "kernelspec": {
   "display_name": "Python 3 (ipykernel)",
   "language": "python",
   "name": "python3"
  },
  "language_info": {
   "codemirror_mode": {
    "name": "ipython",
    "version": 3
   },
   "file_extension": ".py",
   "mimetype": "text/x-python",
   "name": "python",
   "nbconvert_exporter": "python",
   "pygments_lexer": "ipython3",
   "version": "3.8.10"
  }
 },
 "nbformat": 4,
 "nbformat_minor": 5
}

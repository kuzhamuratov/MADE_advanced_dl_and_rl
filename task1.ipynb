{
 "cells": [
  {
   "cell_type": "markdown",
   "id": "489f3f95",
   "metadata": {},
   "source": [
    "## RL and Advanced DL: Домашнее задание 1"
   ]
  },
  {
   "cell_type": "code",
   "execution_count": 1,
   "id": "d757d5eb",
   "metadata": {},
   "outputs": [],
   "source": [
    "import random\n",
    "import numpy as np\n",
    "import matplotlib.pyplot as plt\n",
    "from tqdm import trange\n",
    "from joblib import Parallel, delayed\n",
    "import gym\n",
    "env = gym.make('Blackjack-v1')"
   ]
  },
  {
   "cell_type": "markdown",
   "id": "aa856640",
   "metadata": {},
   "source": [
    "### Part1"
   ]
  },
  {
   "cell_type": "markdown",
   "id": "1cf6bd26",
   "metadata": {},
   "source": [
    "1. Рассмотрим очень простую стратегию: говорить stand, если у нас на руках комбинация в 19, 20 или 21 очко, во всех остальных случаях говорить hit. Используйте методы Монте-Карло, чтобы оценить выигрыш от этой стратегии."
   ]
  },
  {
   "cell_type": "code",
   "execution_count": 2,
   "id": "3c793e63",
   "metadata": {},
   "outputs": [
    {
     "name": "stdout",
     "output_type": "stream",
     "text": [
      "-0.19967\n"
     ]
    }
   ],
   "source": [
    "EXELENT_NUMBERS = [19, 20, 21]\n",
    "average_reward = 0\n",
    "N = 100000\n",
    "\n",
    "def test_naive(env):\n",
    "    (player_score, dealer_card, usable_ace), _ = env.reset()\n",
    "    done = False\n",
    "    while not done:\n",
    "        if player_score in EXELENT_NUMBERS:\n",
    "            (player_score, dealer_card, usable_ace), reward, done, _, _ = env.step(0)\n",
    "        else:\n",
    "            (player_score, dealer_card, usable_ace), reward, done, _, _ = env.step(1)\n",
    "    return reward\n",
    "\n",
    "average_reward = np.mean(Parallel(n_jobs=-1)(delayed(test_naive)(env) for _ in range(N)))\n",
    "print(average_reward)"
   ]
  },
  {
   "cell_type": "markdown",
   "id": "83f81d97",
   "metadata": {},
   "source": [
    "2. Реализуйте метод обучения с подкреплением без модели (можно Q-обучение, но рекомендую попробовать и другие, например Monte Carlo control) для обучения стратегии в блекджеке, используя окружение BlackjackEnv из OpenAI Gym."
   ]
  },
  {
   "cell_type": "code",
   "execution_count": 3,
   "id": "4ee4e01f",
   "metadata": {},
   "outputs": [],
   "source": [
    "EPSILON_INIT = 0.1\n",
    "EPSILON_END = 0.001\n",
    "NUM_STATES = 23\n",
    "NUM_ACTIONS = 2\n",
    "Q_values = np.array([[0. for i in range(NUM_ACTIONS)] for j in range(NUM_STATES)])\n",
    "Returns = [[[] for i in range(NUM_ACTIONS)] for j in range(NUM_STATES)]"
   ]
  },
  {
   "cell_type": "code",
   "execution_count": 4,
   "id": "b9f17b9e",
   "metadata": {},
   "outputs": [
    {
     "name": "stderr",
     "output_type": "stream",
     "text": [
      "100%|██████████████████████████████████████████████████████████████████████████████████████████████████████████████████████████████████████████████████████████| 1000000/1000000 [13:05<00:00, 1273.55it/s]\n"
     ]
    }
   ],
   "source": [
    "testing_avg_reward = []\n",
    "\n",
    "N_iters = 1_000_000\n",
    "# Monte Carlo control\n",
    "for i in trange(N_iters):\n",
    "    \n",
    "    EPSILON = EPSILON_INIT - i * (EPSILON_INIT - EPSILON_END) / N_iters\n",
    "    # generate episode\n",
    "    episode = []\n",
    "    (player_score, dealer_card, usable_ace), _ = env.reset()\n",
    "    done = False\n",
    "    while not done:\n",
    "        if random.uniform(0, 1) > EPSILON:\n",
    "            action = np.argmax(Q_values[player_score])\n",
    "        else:\n",
    "            action = random.randint(0, 1)\n",
    "        (player_score_next, dealer_card, usable_ace), reward, done, _, _ = env.step(action)\n",
    "        episode.append((player_score, action, reward, done))\n",
    "        player_score = player_score_next\n",
    "    \n",
    "    # calculate new q_matrix\n",
    "    G = 0\n",
    "    for player_score, action, reward, done in episode[::-1]:\n",
    "        G = reward + G\n",
    "        if not Returns[player_score][action]:\n",
    "            Returns[player_score][action] = (G, 1)\n",
    "        else:\n",
    "            value, count = Returns[player_score][action]\n",
    "            Returns[player_score][action] = ((G + value * count) / (count + 1), count + 1)\n",
    "        \n",
    "        Q_values[player_score, action] = Returns[player_score][action][0]\n",
    "    \n",
    "    \n",
    "    # testing model  every 5000 iterations\n",
    "    if i % 5000 == 0:\n",
    "        def test_monte_carlo(env, Q_values):\n",
    "            (player_score, dealer_card, usable_ace), _ = env.reset()\n",
    "            done = False\n",
    "            while not done:\n",
    "                if random.uniform(0, 1) > EPSILON:\n",
    "                    action = np.argmax(Q_values[player_score])\n",
    "                else:\n",
    "                    action = random.randint(0, 1)\n",
    "                (player_score_next, dealer_card, usable_ace), reward, done, _, _ = env.step(action)\n",
    "                player_score = player_score_next\n",
    "            return reward\n",
    "        \n",
    "        average_reward = np.mean(Parallel(n_jobs=-1)(\n",
    "            delayed(test_monte_carlo)(env, Q_values) for _ in range(N))\n",
    "                                )\n",
    "        testing_avg_reward.append(average_reward)\n",
    "    "
   ]
  },
  {
   "cell_type": "markdown",
   "id": "347c3937",
   "metadata": {},
   "source": [
    "3. Сколько выигрывает казино у вашей стратегии? Нарисуйте графики среднего дохода вашего метода (усреднённого по крайней мере по 100000 раздач, а лучше больше) по ходу обучения. Попробуйте подобрать оптимальные гиперпараметры.\n",
    "\n",
    "**Основной гиперпараметр EPSILON**. Гамма не влияет, а количество итераций берем большое (на каждое состояние от 4 до 22 много состояний при N > 100000)."
   ]
  },
  {
   "cell_type": "code",
   "execution_count": 5,
   "id": "c9e66db5",
   "metadata": {},
   "outputs": [
    {
     "data": {
      "text/plain": [
       "[<matplotlib.lines.Line2D at 0x7fd56831abe0>]"
      ]
     },
     "execution_count": 5,
     "metadata": {},
     "output_type": "execute_result"
    },
    {
     "data": {
      "image/png": "[encoded data removed]",
      "text/plain": [
       "<Figure size 432x288 with 1 Axes>"
      ]
     },
     "metadata": {
      "needs_background": "light"
     },
     "output_type": "display_data"
    }
   ],
   "source": [
    "# Средняя награда по итерациям (*5000)\n",
    "plt.plot(testing_avg_reward)"
   ]
  },
  {
   "cell_type": "code",
   "execution_count": 6,
   "id": "4f89e5e5",
   "metadata": {},
   "outputs": [
    {
     "name": "stdout",
     "output_type": "stream",
     "text": [
      "Средняя награда за 100_000 эпизодов -0.074724\n"
     ]
    }
   ],
   "source": [
    "print('Средняя награда за 100_000 эпизодов', np.mean(testing_avg_reward[-10:]))"
   ]
  },
  {
   "cell_type": "markdown",
   "id": "00efb976",
   "metadata": {},
   "source": [
    "### Part2"
   ]
  },
  {
   "cell_type": "code",
   "execution_count": 3,
   "id": "6a0c47de",
   "metadata": {},
   "outputs": [],
   "source": [
    "class BlackJackWithDouble:\n",
    "    def __init__(self, env):\n",
    "        self.env = env\n",
    "    def reset(self):\n",
    "        return self.env.reset()\n",
    "    def step(self, action):\n",
    "        if action == 2:\n",
    "            (state, d_state, ace), r, done, info1, info2 =  self.env.step(1)\n",
    "            while not done:\n",
    "                (state, d_state, ace), r, done, info1, info2 =  self.env.step(0)\n",
    "            return (state, d_state, ace), 2 * r, done, info1, info2\n",
    "        return self.env.step(action)"
   ]
  },
  {
   "cell_type": "code",
   "execution_count": 4,
   "id": "5767ab8c",
   "metadata": {},
   "outputs": [],
   "source": [
    "new_env = BlackJackWithDouble(env)"
   ]
  },
  {
   "cell_type": "code",
   "execution_count": 5,
   "id": "6709a47d",
   "metadata": {},
   "outputs": [],
   "source": [
    "EPSILON_INIT = 0.1\n",
    "EPSILON_END = 0.001\n",
    "NUM_STATES = 40\n",
    "NUM_ACTIONS = 3\n",
    "Q_values = np.array([[0. for i in range(NUM_ACTIONS)] for j in range(NUM_STATES)])\n",
    "Returns = [[[] for i in range(NUM_ACTIONS)] for j in range(NUM_STATES)]"
   ]
  },
  {
   "cell_type": "code",
   "execution_count": 10,
   "id": "dd4ce279",
   "metadata": {},
   "outputs": [
    {
     "name": "stderr",
     "output_type": "stream",
     "text": [
      "100%|██████████████████████████████████████████████████████████████████████████████████████████████████████████████████████████████████████████████████████████| 1000000/1000000 [12:55<00:00, 1289.68it/s]\n"
     ]
    }
   ],
   "source": [
    "testing_avg_reward = []\n",
    "\n",
    "\n",
    "N_iters = 1_000_000\n",
    "# Monte Carlo control\n",
    "for i in trange(N_iters):\n",
    "    EPSILON = EPSILON_INIT - i * (EPSILON_INIT - EPSILON_END) / N_iters\n",
    "    # generate episode\n",
    "    episode = []\n",
    "    (player_score, dealer_card, usable_ace), _ = new_env.reset()\n",
    "    done = False\n",
    "    while not done:\n",
    "        if random.uniform(0, 1) > EPSILON:\n",
    "            action = np.argmax(Q_values[player_score])\n",
    "        else:\n",
    "            action = random.randint(0, 2)\n",
    "        (player_score_next, dealer_card, usable_ace), reward, done, _, _ = new_env.step(action)\n",
    "        episode.append((player_score, action, reward, done))\n",
    "        player_score = player_score_next\n",
    "    \n",
    "    # calculate new q_matrix\n",
    "    G = 0\n",
    "    for player_score, action, reward, done in episode[::-1]:\n",
    "        G = reward + G\n",
    "        if not Returns[player_score][action]:\n",
    "            Returns[player_score][action] = (G, 1)\n",
    "        else:\n",
    "            value, count = Returns[player_score][action]\n",
    "            Returns[player_score][action] = ((G + value * count) / (count + 1), count + 1)\n",
    "        \n",
    "        Q_values[player_score, action] = Returns[player_score][action][0]\n",
    "\n",
    "\n",
    "    # testing model  every 5000 iterations\n",
    "    if i % 5000 == 0:\n",
    "        def test_monte_carlo(env, Q_values):\n",
    "            (player_score, dealer_card, usable_ace), _ = env.reset()\n",
    "            done = False\n",
    "            while not done:\n",
    "                if random.uniform(0, 1) > EPSILON:\n",
    "                    action = np.argmax(Q_values[player_score])\n",
    "                else:\n",
    "                    action = random.randint(0, 1)\n",
    "                (player_score_next, dealer_card, usable_ace), reward, done, _, _ = env.step(action)\n",
    "                player_score = player_score_next\n",
    "            return reward\n",
    "        average_reward = np.mean(\n",
    "            Parallel(n_jobs=-1)(delayed(test_monte_carlo)(new_env, Q_values) for _ in range(N))\n",
    "        )\n",
    "        testing_avg_reward.append(average_reward)"
   ]
  },
  {
   "cell_type": "code",
   "execution_count": 11,
   "id": "fa55b32e",
   "metadata": {},
   "outputs": [
    {
     "data": {
      "text/plain": [
       "[<matplotlib.lines.Line2D at 0x7fd568773910>]"
      ]
     },
     "execution_count": 11,
     "metadata": {},
     "output_type": "execute_result"
    },
    {
     "data": {
      "image/png": "[encoded data removed]",
      "text/plain": [
       "<Figure size 432x288 with 1 Axes>"
      ]
     },
     "metadata": {
      "needs_background": "light"
     },
     "output_type": "display_data"
    }
   ],
   "source": [
    "# Средняя награда по итерациям (*5000)\n",
    "plt.plot(testing_avg_reward)"
   ]
  },
  {
   "cell_type": "code",
   "execution_count": 12,
   "id": "e5507f35",
   "metadata": {},
   "outputs": [
    {
     "name": "stdout",
     "output_type": "stream",
     "text": [
      "Средняя награда за 100_000 эпизодов -0.056431999999999996\n"
     ]
    }
   ],
   "source": [
    "print('Средняя награда за 100_000 эпизодов', np.mean(testing_avg_reward[-10:]))"
   ]
  },
  {
   "cell_type": "markdown",
   "id": "12dc265c",
   "metadata": {},
   "source": [
    "__Видно что удвоение ставки повышает среднюю награду, но она все равно ниже нуля. Казино выигрывает!!!!__"
   ]
  },
  {
   "cell_type": "markdown",
   "id": "12525f7f",
   "metadata": {},
   "source": [
    "### Part3"
   ]
  },
  {
   "cell_type": "code",
   "execution_count": 3,
   "id": "52ff0fa7",
   "metadata": {},
   "outputs": [],
   "source": [
    "from gym.envs.toy_text import BlackjackEnv\n",
    "import os\n",
    "from typing import Optional\n",
    "\n",
    "import numpy as np\n",
    "\n",
    "import gym\n",
    "from gym import spaces\n",
    "from gym.error import DependencyNotInstalled"
   ]
  },
  {
   "cell_type": "code",
   "execution_count": 4,
   "id": "377533a5",
   "metadata": {},
   "outputs": [],
   "source": [
    "def cmp(a, b):\n",
    "    return float(a > b) - float(a < b)\n",
    "\n",
    "\n",
    "def draw_card(card_count):\n",
    "    counts = [count_ for count_ in card_count.values()]\n",
    "    keys = [key_ for key_ in card_count.keys()]\n",
    "    probs = [count_ / sum(counts) for count_ in counts]\n",
    "    return np.random.choice(keys, p=probs)\n",
    "\n",
    "\n",
    "def usable_ace(hand):  # Does this hand have a usable ace?\n",
    "    return 1 in hand and sum(hand) + 10 <= 21\n",
    "\n",
    "\n",
    "def sum_hand(hand):  # Return current hand total\n",
    "    if usable_ace(hand):\n",
    "        return sum(hand) + 10\n",
    "    return sum(hand)\n",
    "\n",
    "\n",
    "def is_bust(hand):  # Is this hand a bust?\n",
    "    return sum_hand(hand) > 21\n",
    "\n",
    "\n",
    "def score(hand):  # What is the score of this hand (0 if bust)\n",
    "    return 0 if is_bust(hand) else sum_hand(hand)\n",
    "\n",
    "\n",
    "def is_natural(hand):  # Is this hand a natural blackjack?\n",
    "    return sorted(hand) == [1, 10]\n",
    "\n",
    "class BlackJackWithFiniteDeck(BlackjackEnv):\n",
    "    def __init__(self):\n",
    "        super(BlackJackWithFiniteDeck, self).__init__()\n",
    "        self.card_count = {2: 4, 3: 4, 4: 4, 5: 4, 6: 4, \n",
    "                           7: 4, 8: 4, 9: 4, 10: 16, 1: 4}\n",
    "        self.limit = 15\n",
    "        \n",
    "    def step(self, action):\n",
    "        assert self.action_space.contains(action)\n",
    "        if action:  # hit: add a card to players hand and return\n",
    "            card_cur = draw_card(self.card_count)\n",
    "            self.card_count[card_cur] -= 1\n",
    "            self.player.append(card_cur)\n",
    "            \n",
    "            if is_bust(self.player):\n",
    "                terminated = True\n",
    "                reward = -1.0\n",
    "            else:\n",
    "                terminated = False\n",
    "                reward = 0.0\n",
    "        else:  # stick: play out the dealers hand, and score\n",
    "            terminated = True\n",
    "            while sum_hand(self.dealer) < 17:\n",
    "                card_cur = draw_card(self.card_count)\n",
    "                self.card_count[card_cur] -= 1\n",
    "                self.dealer.append(card_cur)\n",
    "            reward = cmp(score(self.player), score(self.dealer))\n",
    "            if self.sab and is_natural(self.player) and not is_natural(self.dealer):\n",
    "                # Player automatically wins. Rules consistent with S&B\n",
    "                reward = 1.0\n",
    "            elif (\n",
    "                not self.sab\n",
    "                and self.natural\n",
    "                and is_natural(self.player)\n",
    "                and reward == 1.0\n",
    "            ):\n",
    "                # Natural gives extra points, but doesn't autowin. Legacy implementation\n",
    "                reward = 1.5\n",
    "\n",
    "        if self.render_mode == \"human\":\n",
    "            self.render()\n",
    "        return self._get_obs(), reward, terminated, False, self.card_count\n",
    "    \n",
    "    def draw_hand(self):\n",
    "        card_first = draw_card(self.card_count)\n",
    "        self.card_count[card_first] -= 1\n",
    "        card_second = draw_card(self.card_count)\n",
    "        self.card_count[card_second] -= 1\n",
    "        return [card_first, card_second]\n",
    "    \n",
    "    def reset(self, seed: Optional[int] = None, options: Optional[dict] = None, ):\n",
    "        \n",
    "        # reset deck\n",
    "        if sum(self.card_count.values()) < self.limit:\n",
    "            self.card_count = {2: 4, 3: 4, 4: 4, 5: 4, 6: 4, \n",
    "                           7: 4, 8: 4, 9: 4, 10: 16, 1: 4}\n",
    "        \n",
    "        self.dealer = self.draw_hand()\n",
    "        self.player = self.draw_hand()\n",
    " \n",
    "\n",
    "        _, dealer_card_value, _ = self._get_obs()\n",
    "\n",
    "        suits = [\"C\", \"D\", \"H\", \"S\"]\n",
    "        self.dealer_top_card_suit = self.np_random.choice(suits)\n",
    "\n",
    "        if dealer_card_value == 1:\n",
    "            self.dealer_top_card_value_str = \"A\"\n",
    "        elif dealer_card_value == 10:\n",
    "            self.dealer_top_card_value_str = self.np_random.choice([\"J\", \"Q\", \"K\"])\n",
    "        else:\n",
    "            self.dealer_top_card_value_str = str(dealer_card_value)\n",
    "\n",
    "        if self.render_mode == \"human\":\n",
    "            self.render()\n",
    "        return self._get_obs(), self.card_count"
   ]
  },
  {
   "cell_type": "code",
   "execution_count": 5,
   "id": "1ae8396c",
   "metadata": {},
   "outputs": [],
   "source": [
    "custom_env = BlackJackWithFiniteDeck()"
   ]
  },
  {
   "cell_type": "code",
   "execution_count": 6,
   "id": "66bd392a",
   "metadata": {},
   "outputs": [],
   "source": [
    "# Как и в системе счёта десяток, каждой карте, выходящей из колоды, присваивается своё числовое значение:\n",
    "\n",
    "# Карты \tЧисловые значения\n",
    "# 2, 3, 4, 5, 6 \t+1\n",
    "# 7, 8, 9       \t0\n",
    "# 10, В, Д, К, Т\t−1\n",
    "\n",
    "ETALON = {2: 4, 3: 4, 4: 4, 5: 4, 6: 4, 7: 4, 8: 4, 9: 4, 10: 16, 1: 4}\n",
    "PRICES = {2: 1, 3: 1, 4: 1, 5: 1, 6: 1, 7: 0, 8: 0, 9: 0, 10: -1, 1: -1}\n",
    "def get_index_from_card_count(card_count):\n",
    "    return 37 + sum([(ETALON[card] - card_count[card]) * PRICES[card] for card in card_count])"
   ]
  },
  {
   "cell_type": "code",
   "execution_count": 17,
   "id": "04540d2d",
   "metadata": {},
   "outputs": [
    {
     "name": "stderr",
     "output_type": "stream",
     "text": [
      "100%|██████████████████████████████████████████████████████████████████████████████████████████████████████████████████████████████████████████████████████████| 1000000/1000000 [05:53<00:00, 2830.78it/s]\n"
     ]
    },
    {
     "name": "stdout",
     "output_type": "stream",
     "text": [
      "Средняя награда без учета подсчета карт -0.07771\n"
     ]
    }
   ],
   "source": [
    "# МЕТОД ИЗ 2 ПУНКТА\n",
    "# БЕЗ ПОДСЧЕТА КАРТ ДЛЯ ВАЛИДАЦИИ и СРАВНЕНИЯ\n",
    "\n",
    "EPSILON_INIT = 0.1\n",
    "EPSILON_END = 0.001\n",
    "NUM_STATES = 23\n",
    "NUM_ACTIONS = 2\n",
    "Q_values = np.array(\n",
    "    [[0. for i in range(NUM_ACTIONS)] for j in range(NUM_STATES)]\n",
    ")\n",
    "Returns = [[[]  for i in range(NUM_ACTIONS)] for j in range(NUM_STATES)]\n",
    "testing_avg_reward = []\n",
    "\n",
    "N_ITERS = 1_000_000\n",
    "# Monte Carlo control\n",
    "for i in trange(N_ITERS):\n",
    "    \n",
    "    EPSILON = EPSILON_INIT - i * (EPSILON_INIT - EPSILON_END) / N_ITERS\n",
    "    # generate episode\n",
    "    episode = []\n",
    "    (player_score, dealer_card, _), card_count_ = custom_env.reset()\n",
    "    done = False\n",
    "    while not done:\n",
    "        if random.uniform(0, 1) > EPSILON:\n",
    "            action = np.argmax(Q_values[player_score])\n",
    "        else:\n",
    "            action = random.randint(0, 1)\n",
    "        (player_score_next, dealer_card, _), reward, done, _, card_count_ = custom_env.step(action)\n",
    "        episode.append((player_score, action, reward, done, card_count_))\n",
    "        player_score = player_score_next\n",
    "    \n",
    "    # calculate new q_matrix\n",
    "    G = 0\n",
    "    for player_score, action, reward, done, card_count_ in episode[::-1]:\n",
    "        G = reward + G\n",
    "        if not Returns[player_score][action]:\n",
    "            Returns[player_score][action] = (G, 1)\n",
    "        else:\n",
    "            value, count = Returns[player_score][action]\n",
    "            Returns[player_score][action] = ((value * count + G)/(count + 1), count + 1)\n",
    "        \n",
    "        Q_values[player_score, action] =\\\n",
    "            Returns[player_score][action][0]\n",
    "\n",
    "\n",
    "average_reward = 0\n",
    "for i in range(N):\n",
    "    (player_score, dealer_card, _), card_count_ = custom_env.reset()\n",
    "    done = False\n",
    "    while not done:\n",
    "        if random.uniform(0, 1) > EPSILON:\n",
    "            action = np.argmax(Q_values[player_score])\n",
    "        else:\n",
    "            action = random.randint(0, 1)\n",
    "        (player_score_next, dealer_card, _), reward, done, _, card_count_ = custom_env.step(action)\n",
    "        player_score = player_score_next\n",
    "    average_reward += reward\n",
    "print('Средняя награда без учета подсчета карт', average_reward / N)"
   ]
  },
  {
   "cell_type": "code",
   "execution_count": 7,
   "id": "aaaf135d",
   "metadata": {},
   "outputs": [],
   "source": [
    "#### МОДЕЛЬ с учетом системы плюс минус как в фильме \"21\"\n",
    "EPSILON_INIT = 0.1\n",
    "EPSILON_END = 0.001\n",
    "NUM_STATES = 23\n",
    "NUM_ACTIONS = 2\n",
    "MAX_INDEXES = 75\n",
    "Q_values = np.array(\n",
    "    [[[0. for i in range(NUM_ACTIONS)] for j in range(NUM_STATES)] for k in range(MAX_INDEXES)]\n",
    ")\n",
    "Returns = [[[[]  for i in range(NUM_ACTIONS)] for j in range(NUM_STATES)] for k in range(MAX_INDEXES)]"
   ]
  },
  {
   "cell_type": "code",
   "execution_count": 9,
   "id": "8d204c07",
   "metadata": {},
   "outputs": [
    {
     "name": "stderr",
     "output_type": "stream",
     "text": [
      "100%|███████████████████████████████████████████████████████████████████████████████████████████████████████████████████████████████████████████████████████████| 1000000/1000000 [34:06<00:00, 488.61it/s]\n"
     ]
    }
   ],
   "source": [
    "testing_avg_reward = []\n",
    "\n",
    "memory_function = get_index_from_card_count\n",
    "\n",
    "\n",
    "N_ITERS = 1_000_000\n",
    "# Monte Carlo control\n",
    "for i in trange(N_ITERS):\n",
    "    \n",
    "    EPSILON = EPSILON_INIT - i * (EPSILON_INIT - EPSILON_END) / N_ITERS\n",
    "    # generate episode\n",
    "    episode = []\n",
    "    (player_score, dealer_card, _), card_count_ = custom_env.reset()\n",
    "    index_ = memory_function(card_count_)\n",
    "    done = False\n",
    "    while not done:\n",
    "        if random.uniform(0, 1) > EPSILON:\n",
    "            action = np.argmax(Q_values[index_][player_score])\n",
    "        else:\n",
    "            action = random.randint(0, 1)\n",
    "        (player_score_next, dealer_card, _), reward, done, _, next_card_count_ = custom_env.step(action)\n",
    "        episode.append((player_score, action, reward, done, index_))\n",
    "        player_score = player_score_next\n",
    "        index_ = memory_function(next_card_count_)\n",
    "    \n",
    "    # calculate new q_matrix\n",
    "    G = 0\n",
    "    for player_score, action, reward, done, index_ in episode[::-1]:\n",
    "        G = reward + G\n",
    "        \n",
    "        \n",
    "        if not Returns[index_][player_score][action]:\n",
    "            Returns[index_][player_score][action] = (G, 1)\n",
    "        else:\n",
    "            value, count = Returns[index_][player_score][action]\n",
    "            value = (value * count + G) / (count + 1)\n",
    "            Returns[index_][player_score][action] = (value, count + 1)\n",
    "\n",
    "        Q_values[index_][player_score, action] =\\\n",
    "            Returns[index_][player_score][action][0]\n",
    "    \n",
    "  \n",
    "    # testing model  every 5000 iterations\n",
    "    if i%5000==0:\n",
    "        average_reward = 0\n",
    "        for _ in range(N):\n",
    "            (player_score, dealer_card, _), card_count_ = env.reset()\n",
    "            index_ = memory_function(card_count_)\n",
    "            done = False\n",
    "            while not done:\n",
    "                if random.uniform(0, 1) > EPSILON:\n",
    "                    action = np.argmax(Q_values[index_][player_score])\n",
    "                else:\n",
    "                    action = random.randint(0, 1)\n",
    "                (player_score_next, next_dealer_card, _), reward, done, _, next_card_count_ = env.step(action)\n",
    "                player_score = player_score_next\n",
    "                dealer_card = next_dealer_card\n",
    "                index_ = memory_function(next_card_count_)\n",
    "            average_reward += reward\n",
    "        \n",
    "        testing_avg_reward.append(average_reward / N)"
   ]
  },
  {
   "cell_type": "code",
   "execution_count": 10,
   "id": "7508313e",
   "metadata": {},
   "outputs": [
    {
     "data": {
      "text/plain": [
       "[<matplotlib.lines.Line2D at 0x7f97ec65e130>]"
      ]
     },
     "execution_count": 10,
     "metadata": {},
     "output_type": "execute_result"
    },
    {
     "data": {
      "image/png": "[encoded data removed]",
      "text/plain": [
       "<Figure size 432x288 with 1 Axes>"
      ]
     },
     "metadata": {
      "needs_background": "light"
     },
     "output_type": "display_data"
    }
   ],
   "source": [
    "# Средняя награда по итерациям (*5000)\n",
    "plt.plot(testing_avg_reward)"
   ]
  },
  {
   "cell_type": "code",
   "execution_count": 11,
   "id": "db312f46",
   "metadata": {},
   "outputs": [
    {
     "name": "stdout",
     "output_type": "stream",
     "text": [
      "Средняя награда с учетом подсчета карт методом плюс-минус -0.075106\n"
     ]
    }
   ],
   "source": [
    "print('Средняя награда с учетом подсчета карт методом плюс-минус', np.mean(testing_avg_reward[-10:]))"
   ]
  },
  {
   "cell_type": "markdown",
   "id": "c1c65898",
   "metadata": {},
   "source": [
    "__Средняя награда выше чем без подсчета карт. Но казино все равно выиграет!!!__"
   ]
  }
 ],
 "metadata": {
  "kernelspec": {
   "display_name": "Python 3 (ipykernel)",
   "language": "python",
   "name": "python3"
  },
  "language_info": {
   "codemirror_mode": {
    "name": "ipython",
    "version": 3
   },
   "file_extension": ".py",
   "mimetype": "text/x-python",
   "name": "python",
   "nbconvert_exporter": "python",
   "pygments_lexer": "ipython3",
   "version": "3.8.10"
  }
 },
 "nbformat": 4,
 "nbformat_minor": 5
}
